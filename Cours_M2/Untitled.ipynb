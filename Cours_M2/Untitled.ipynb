{
 "cells": [
  {
   "cell_type": "code",
   "execution_count": 1,
   "metadata": {},
   "outputs": [],
   "source": [
    "import folium\n",
    "import csv\n",
    "import pdb\n",
    "import json\n",
    "import pdb\n",
    "\n",
    "#pour insérer des polygones\n",
    "from shapely.geometry import Polygon\n",
    "from shapely.geometry.polygon import Polygon\n"
   ]
  },
  {
   "cell_type": "code",
   "execution_count": 2,
   "metadata": {},
   "outputs": [],
   "source": [
    "#un polygone se definit de la manière suivante : [[[,],[,],[,],[,],[,],[,],...,[,]]]\n",
    "#liste avec des polygone dans une liste : voir polygone à trou dans le diapo : parenthese jaune pour un trou\n"
   ]
  },
  {
   "cell_type": "code",
   "execution_count": null,
   "metadata": {},
   "outputs": [
    {
     "name": "stdout",
     "output_type": "stream",
     "text": [
      "> <ipython-input-3-f7d2baf9b3c7>(4)<module>()\n",
      "-> for ele in Base_geo['features']:\n"
     ]
    }
   ],
   "source": [
    "with open('DPEstado_do_RioFinal.json','r') as output:\n",
    "    Base_geo=json.load(output)\n",
    "    \n",
    "for ele in Base_geo['features']:\n",
    "    print(ele['properties'],ele(geometry['type'])\n",
    "    pdb.set_trace()\n"
   ]
  },
  {
   "cell_type": "code",
   "execution_count": null,
   "metadata": {},
   "outputs": [],
   "source": []
  }
 ],
 "metadata": {
  "kernelspec": {
   "display_name": "Python 3",
   "language": "python",
   "name": "python3"
  },
  "language_info": {
   "codemirror_mode": {
    "name": "ipython",
    "version": 3
   },
   "file_extension": ".py",
   "mimetype": "text/x-python",
   "name": "python",
   "nbconvert_exporter": "python",
   "pygments_lexer": "ipython3",
   "version": "3.6.1"
  }
 },
 "nbformat": 4,
 "nbformat_minor": 2
}
